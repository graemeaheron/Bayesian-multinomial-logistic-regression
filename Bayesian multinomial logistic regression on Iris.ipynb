{
 "cells": [
  {
   "cell_type": "markdown",
   "metadata": {},
   "source": [
    "# Applying Bayesian multinomial logistic regression to the Iris dataset\n",
    "\n",
    "First we load the dataset in. Due to the format of our data, we don't need to preprocetrain_test_splitssing tasks such as converting objects to categories. We then split into training and testing sets."
   ]
  },
  {
   "cell_type": "code",
   "execution_count": 1,
   "metadata": {},
   "outputs": [],
   "source": [
    "import warnings\n",
    "warnings.filterwarnings('ignore')\n",
    "\n",
    "import pymc3 as pm\n",
    "import pandas as pd\n",
    "import numpy as np\n",
    "import theano\n",
    "import theano.tensor as tt\n",
    "from sklearn import datasets\n",
    "from sklearn.metrics import accuracy_score\n",
    "from sklearn.model_selection import train_test_split\n",
    "\n",
    "iris = datasets.load_iris()\n",
    "\n",
    "X = pd.DataFrame(data=iris['data'], columns=iris['feature_names'])\n",
    "y = pd.Series(data=iris['target'])\n",
    "\n",
    "X_train, X_test, y_train, y_test = train_test_split(X, y)"
   ]
  },
  {
   "cell_type": "markdown",
   "metadata": {},
   "source": [
    "Now we train the Bayesian model. To represent the likelihood we use a categorical distribution. To represent the probability of each class, each class has its own regression equation. Then, the equations as a group have the softmax function applied to them to ensure that the total probability sums to 1."
   ]
  },
  {
   "cell_type": "code",
   "execution_count": 2,
   "metadata": {},
   "outputs": [
    {
     "name": "stderr",
     "output_type": "stream",
     "text": [
      "Multiprocess sampling (4 chains in 4 jobs)\n",
      "CompoundStep\n",
      ">Metropolis: [beta]\n",
      ">Metropolis: [alpha]\n",
      "Sampling 4 chains, 0 divergences: 100%|██████████| 22000/22000 [00:02<00:00, 7810.46draws/s]\n",
      "The rhat statistic is larger than 1.4 for some parameters. The sampler did not converge.\n",
      "The estimated number of effective samples is smaller than 200 for some parameters.\n"
     ]
    }
   ],
   "source": [
    "no_of_classes = len(y_train.unique())\n",
    "\n",
    "with pm.Model() as bayesian_model:\n",
    "    # Priors\n",
    "    # Alpha represents the intercepts of each equation\n",
    "    alpha = pm.Normal('alpha', mu=0, sd=1, shape=no_of_classes)\n",
    "    # Beta represents the coefficients of the explanatory variables for each equation\n",
    "    beta = pm.Normal('beta', mu=0, sd=1, shape=(X_train.shape[1], no_of_classes))\n",
    "    \n",
    "    # Likelihood\n",
    "    equations = alpha + pm.math.dot(X_train, beta)\n",
    "    probabilities = pm.Deterministic('probabilities', tt.nnet.softmax(equations))\n",
    "    y = pm.Categorical(\"y\", p=probabilities, observed=y_train)\n",
    "    \n",
    "    # Sampling\n",
    "    step = pm.Metropolis()\n",
    "    trace = pm.sample(5000, step=step)"
   ]
  },
  {
   "cell_type": "markdown",
   "metadata": {},
   "source": [
    "Now we preform predicitions using the Bayesian model that we just created."
   ]
  },
  {
   "cell_type": "code",
   "execution_count": 4,
   "metadata": {},
   "outputs": [
    {
     "name": "stdout",
     "output_type": "stream",
     "text": [
      "Bayesian model testing accuracy: 100.0%\n"
     ]
    }
   ],
   "source": [
    "predictions = trace['alpha'].mean(axis=0) + np.dot(X_test, trace['beta'].mean(axis=0))\n",
    "predicited_classes = np.argmax(np.exp(predictions).T / np.sum(np.exp(predictions), axis=1), axis=0)\n",
    "\n",
    "bayesianTestingAccuracy = accuracy_score(y_test, predicited_classes)\n",
    "print(\"Bayesian model testing accuracy: \" + str(bayesianTestingAccuracy * 100) + \"%\")"
   ]
  },
  {
   "cell_type": "code",
   "execution_count": null,
   "metadata": {},
   "outputs": [],
   "source": []
  }
 ],
 "metadata": {
  "kernelspec": {
   "display_name": "Python 3",
   "language": "python",
   "name": "python3"
  },
  "language_info": {
   "codemirror_mode": {
    "name": "ipython",
    "version": 3
   },
   "file_extension": ".py",
   "mimetype": "text/x-python",
   "name": "python",
   "nbconvert_exporter": "python",
   "pygments_lexer": "ipython3",
   "version": "3.7.6"
  }
 },
 "nbformat": 4,
 "nbformat_minor": 4
}
